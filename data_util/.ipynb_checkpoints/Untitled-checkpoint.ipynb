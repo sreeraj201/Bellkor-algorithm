{
 "cells": [
  {
   "cell_type": "code",
   "execution_count": 45,
   "metadata": {
    "collapsed": true
   },
   "outputs": [],
   "source": [
    "import pandas as pd\n",
    "import json,re "
   ]
  },
  {
   "cell_type": "code",
   "execution_count": 64,
   "metadata": {
    "collapsed": false
   },
   "outputs": [
    {
     "name": "stdout",
     "output_type": "stream",
     "text": [
      "                                      title  \\\n",
      "movieId                                       \n",
      "1                          Toy Story (1995)   \n",
      "2                            Jumanji (1995)   \n",
      "3                   Grumpier Old Men (1995)   \n",
      "4                  Waiting to Exhale (1995)   \n",
      "5        Father of the Bride Part II (1995)   \n",
      "\n",
      "                                                    genres  \n",
      "movieId                                                     \n",
      "1        [Adventure, Animation, Children, Comedy, Fantasy]  \n",
      "2                           [Adventure, Children, Fantasy]  \n",
      "3                                        [Comedy, Romance]  \n",
      "4                                 [Comedy, Drama, Romance]  \n",
      "5                                                 [Comedy]  \n"
     ]
    }
   ],
   "source": [
    "df = pd.read_csv('../Data/movies.csv',header = 0,index_col = ['movieId'])\n",
    "df['genres'] = df['genres'].map(lambda x : x.split('|'))\n",
    "print df.head()"
   ]
  },
  {
   "cell_type": "code",
   "execution_count": 40,
   "metadata": {
    "collapsed": false
   },
   "outputs": [],
   "source": [
    "with open('../Sentiment/moviepolarity.json') as f:\n",
    "    review_polarity = json.load(f)"
   ]
  },
  {
   "cell_type": "code",
   "execution_count": 62,
   "metadata": {
    "collapsed": false
   },
   "outputs": [
    {
     "name": "stdout",
     "output_type": "stream",
     "text": [
      "                             moviename  polarity\n",
      "movieid                                         \n",
      "477      What's Love Got to Do with It  0.164231\n",
      "574                Spanking the Monkey  0.057582\n",
      "718                      Les visiteurs  0.140763\n",
      "875                    Nothing to Lose  0.020747\n",
      "1265                     Groundhog Day  0.149678\n"
     ]
    }
   ],
   "source": [
    "review_df = pd.DataFrame(review_polarity)\n",
    "review_df['movieid'] = review_df['movieid'].map(lambda x : x[0])\n",
    "review_df['moviename'] = review_df['moviename'].map(lambda x : x[0])\n",
    "review_df = review_df.set_index(['movieid'])\n",
    "print review_df.head()"
   ]
  },
  {
   "cell_type": "code",
   "execution_count": 46,
   "metadata": {
    "collapsed": false
   },
   "outputs": [
    {
     "name": "stdout",
     "output_type": "stream",
     "text": [
      "                                      title                      genres  \\\n",
      "477   What's Love Got to Do with It? (1993)            [Drama, Musical]   \n",
      "574              Spanking the Monkey (1994)             [Comedy, Drama]   \n",
      "718   Visitors, The (Visiteurs, Les) (1993)   [Comedy, Fantasy, Sci-Fi]   \n",
      "875                  Nothing to Lose (1994)      [Action, Crime, Drama]   \n",
      "1265                   Groundhog Day (1993)  [Comedy, Fantasy, Romance]   \n",
      "\n",
      "                          moviename  polarity  \n",
      "477   What's Love Got to Do with It  0.164231  \n",
      "574             Spanking the Monkey  0.057582  \n",
      "718                   Les visiteurs  0.140763  \n",
      "875                 Nothing to Lose  0.020747  \n",
      "1265                  Groundhog Day  0.149678  \n"
     ]
    }
   ],
   "source": [
    "final_df = df.join(review_df,how = 'inner')\n",
    "print final_df.head()"
   ]
  },
  {
   "cell_type": "code",
   "execution_count": 57,
   "metadata": {
    "collapsed": false
   },
   "outputs": [
    {
     "name": "stdout",
     "output_type": "stream",
     "text": [
      "                                       genres               moviename  \\\n",
      "130642              [Drama, Horror, Thriller]             Backcountry   \n",
      "135266  [Adventure, Children, Comedy, Sci-Fi]       Zenon: The Zequel   \n",
      "140715                                [Drama]  Straight Outta Compton   \n",
      "143410                   [(no genres listed)]              Hyena Road   \n",
      "148652                      [Comedy, Western]        The Ridiculous 6   \n",
      "\n",
      "        polarity  year  \n",
      "130642  0.070424  2014  \n",
      "135266  0.184345  2001  \n",
      "140715 -0.049247  2015  \n",
      "143410  0.147252  None  \n",
      "148652  0.086012  2015  \n"
     ]
    }
   ],
   "source": [
    "def find_year(x):\n",
    "    year = re.search('\\((\\d+)\\)',x)\n",
    "    if year is None:\n",
    "        return None\n",
    "    else:\n",
    "        return year.group(1)\n",
    "\n",
    "final_df['year'] = final_df['title'].apply(find_year)\n",
    "final_df = final_df.drop('title',axis = 1)\n",
    "print final_df.tail()"
   ]
  },
  {
   "cell_type": "code",
   "execution_count": 60,
   "metadata": {
    "collapsed": false,
    "scrolled": true
   },
   "outputs": [
    {
     "name": "stdout",
     "output_type": "stream",
     "text": [
      "477                             [Drama, Musical]\n",
      "574                              [Comedy, Drama]\n",
      "718                    [Comedy, Fantasy, Sci-Fi]\n",
      "875                       [Action, Crime, Drama]\n",
      "1265                  [Comedy, Fantasy, Romance]\n",
      "1503                                    [Comedy]\n",
      "1777                           [Comedy, Romance]\n",
      "2037               [Adventure, Children, Comedy]\n",
      "2377                            [Horror, Sci-Fi]\n",
      "2688           [Crime, Drama, Mystery, Thriller]\n",
      "3690                                    [Comedy]\n",
      "4168                           [Comedy, Romance]\n",
      "4741                    [Comedy, Drama, Romance]\n",
      "4948                                    [Horror]\n",
      "5517                           [Crime, Thriller]\n",
      "5633                                     [Drama]\n",
      "6032                           [Comedy, Romance]\n",
      "6629          [Crime, Horror, Mystery, Thriller]\n",
      "7002                                     [Drama]\n",
      "7192                                    [Action]\n",
      "8584                          [Drama, Film-Noir]\n",
      "25764                   [Comedy, Drama, Romance]\n",
      "32562                 [Animation, Comedy, Drama]\n",
      "36529      [Action, Crime, Drama, Thriller, War]\n",
      "61160     [Action, Adventure, Animation, Sci-Fi]\n",
      "63393                 [Comedy, Musical, Romance]\n",
      "66744                                    [Drama]\n",
      "68791      [Action, Adventure, Sci-Fi, Thriller]\n",
      "70567                           [Drama, Romance]\n",
      "72171                           [Action, Comedy]\n",
      "74450                          [Comedy, Romance]\n",
      "79824                              [Documentary]\n",
      "82093                           [Crime, Romance]\n",
      "84414     [Action, Adventure, Animation, Sci-Fi]\n",
      "86347                                   [Comedy]\n",
      "88879                   [Action, Horror, Sci-Fi]\n",
      "90439                          [Drama, Thriller]\n",
      "91323                                   [Comedy]\n",
      "93498                                    [Drama]\n",
      "95873                 [Comedy, Fantasy, Romance]\n",
      "97470                  [Action, Drama, Thriller]\n",
      "97957           [Crime, Drama, Horror, Thriller]\n",
      "99106                                   [Comedy]\n",
      "104069                                  [Comedy]\n",
      "105844                                   [Drama]\n",
      "107945                                [Thriller]\n",
      "110058                                   [Drama]\n",
      "112334                             [Documentary]\n",
      "114044                                  [Horror]\n",
      "115210                      [Action, Drama, War]\n",
      "122932               [Children, Comedy, Romance]\n",
      "130642                 [Drama, Horror, Thriller]\n",
      "135266     [Adventure, Children, Comedy, Sci-Fi]\n",
      "140715                                   [Drama]\n",
      "143410                      [(no genres listed)]\n",
      "148652                         [Comedy, Western]\n",
      "Name: genres, dtype: object\n"
     ]
    }
   ],
   "source": [
    "print final_df['genres']"
   ]
  },
  {
   "cell_type": "code",
   "execution_count": null,
   "metadata": {
    "collapsed": true
   },
   "outputs": [],
   "source": []
  }
 ],
 "metadata": {
  "kernelspec": {
   "display_name": "Python 2",
   "language": "python",
   "name": "python2"
  },
  "language_info": {
   "codemirror_mode": {
    "name": "ipython",
    "version": 2
   },
   "file_extension": ".py",
   "mimetype": "text/x-python",
   "name": "python",
   "nbconvert_exporter": "python",
   "pygments_lexer": "ipython2",
   "version": "2.7.6"
  }
 },
 "nbformat": 4,
 "nbformat_minor": 0
}
